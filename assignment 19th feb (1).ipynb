{
 "cells": [
  {
   "cell_type": "code",
   "execution_count": null,
   "id": "55682f21-cbb9-4bb5-878e-f8265e5d6dc7",
   "metadata": {},
   "outputs": [],
   "source": [
    "'''\n",
    "Q1. What is Flask Framework? What are the advantages of Flask Framework?\n",
    "'''"
   ]
  },
  {
   "cell_type": "code",
   "execution_count": null,
   "id": "facea079-e623-4ef4-a16c-d5a23b57b14e",
   "metadata": {},
   "outputs": [],
   "source": [
    "'''\n",
    "flask is a flexible and lightweight application framework written in python.\n",
    "advantages:\n",
    "1. flesxible\n",
    "2. easy to learn\n",
    "3. lightweight\n",
    "4. modular\n",
    "'''\n"
   ]
  },
  {
   "cell_type": "code",
   "execution_count": null,
   "id": "18d31643-b247-49b1-8a9f-26eb2a44c5aa",
   "metadata": {},
   "outputs": [],
   "source": [
    "'''\n",
    "Q2. Create a simple Flask application to display ‘Hello World!!’. Attach the screenshot of the output in\n",
    "Jupyter Notebook.\n",
    "Q4. Create a “/welcome” route to display the welcome message “Welcome to ABC Corporation” and a “/”\n",
    "route to show the following details:\n",
    "Company Name: ABC Corporation\n",
    "Location: India\n",
    "Contact Detail: 999-999-9999\n",
    "\n",
    "'''"
   ]
  },
  {
   "cell_type": "code",
   "execution_count": null,
   "id": "6824a06a-f585-43a5-8df7-9d7c9d09e712",
   "metadata": {},
   "outputs": [],
   "source": [
    "'''\n",
    "from flask import Flask\n",
    "\n",
    "app = Flask(__name__)\n",
    "\n",
    "@app.route(\"/hello\")\n",
    "def hello_world():\n",
    "    return \"Hello, World!\"\n",
    "\n",
    "@app.route(\"/welcome\")\n",
    "def welcome_message():\n",
    "    return \"Welcome to ABC Corporation\"\n",
    "\n",
    "@app.route(\"/\")\n",
    "def company_details():\n",
    "    return \"Company Name: ABC Corporation</br>Location: India</br>Contact Detail: 999-999-9999\"\n",
    "\n",
    "if __name__==\"__main__\":\n",
    "    app.run(host=\"0.0.0.0\")\n",
    "'''"
   ]
  },
  {
   "cell_type": "code",
   "execution_count": null,
   "id": "4bbe4a8c-b001-4c82-a9e1-9dcd9180d0b3",
   "metadata": {},
   "outputs": [],
   "source": []
  },
  {
   "cell_type": "code",
   "execution_count": null,
   "id": "2aa9d059-f3c2-4f19-9ff6-b63d5818290c",
   "metadata": {},
   "outputs": [],
   "source": [
    "'''\n",
    "Q3. What is App routing in Flask? Why do we use app routes?\n",
    "'''"
   ]
  },
  {
   "cell_type": "code",
   "execution_count": null,
   "id": "43fd6457-03b6-4973-a15c-6a2b0bff463a",
   "metadata": {},
   "outputs": [],
   "source": [
    "'''\n",
    "app routing in Flask is done using the @app.route() decorator, which is used to define a URL pattern and associate it with a view function\n",
    "from flask import Flask, url_for\n",
    "\n",
    "\n",
    "'''"
   ]
  },
  {
   "cell_type": "code",
   "execution_count": null,
   "id": "43b00190-2df3-4e9c-b3cc-191f1ec3742e",
   "metadata": {},
   "outputs": [],
   "source": [
    "'''\n",
    "app = Flask(__name__)\n",
    "\n",
    "@app.route('/')\n",
    "def index():\n",
    "    return 'Hello, World!'\n",
    "\n",
    "@app.route('/user/<username>')\n",
    "def profile(username):\n",
    "    return f'Hello, {username}!'\n",
    "\n",
    "with app.test_request_context():\n",
    "    print(url_for('index'))  # Output: '/'\n",
    "    print(url_for('profile', username='John'))  # Output: '/user/John'\n",
    "'''"
   ]
  },
  {
   "cell_type": "code",
   "execution_count": null,
   "id": "f389a76a-91a6-4d15-9f41-2df2eb1db158",
   "metadata": {},
   "outputs": [],
   "source": []
  },
  {
   "cell_type": "code",
   "execution_count": null,
   "id": "f0e159d5-aab4-4691-acdc-62ec18505643",
   "metadata": {},
   "outputs": [],
   "source": []
  }
 ],
 "metadata": {
  "kernelspec": {
   "display_name": "Python 3 (ipykernel)",
   "language": "python",
   "name": "python3"
  },
  "language_info": {
   "codemirror_mode": {
    "name": "ipython",
    "version": 3
   },
   "file_extension": ".py",
   "mimetype": "text/x-python",
   "name": "python",
   "nbconvert_exporter": "python",
   "pygments_lexer": "ipython3",
   "version": "3.10.8"
  }
 },
 "nbformat": 4,
 "nbformat_minor": 5
}
